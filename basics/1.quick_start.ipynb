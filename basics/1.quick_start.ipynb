{
  "cells": [
    {
      "cell_type": "markdown",
      "metadata": {
        "id": "view-in-github",
        "colab_type": "text"
      },
      "source": [
        "<a href=\"https://colab.research.google.com/github/lkarjun/workouts-pytorch-basics-to-advance/blob/main/basics/1.quick_start.ipynb\" target=\"_parent\"><img src=\"https://colab.research.google.com/assets/colab-badge.svg\" alt=\"Open In Colab\"/></a>"
      ]
    },
    {
      "cell_type": "markdown",
      "metadata": {
        "id": "gwdEmpExR3c8"
      },
      "source": [
        "## Quick start\n",
        "### Tutorial 1\n",
        "* https://pytorch.org/tutorials/beginner/basics/quickstart_tutorial.html"
      ]
    },
    {
      "cell_type": "code",
      "execution_count": 10,
      "metadata": {
        "id": "PVvPxXH1R3c-"
      },
      "outputs": [],
      "source": [
        "import torch\n",
        "from torch import nn\n",
        "from torch.utils.data import DataLoader, Dataset\n",
        "from torchvision import datasets\n",
        "from torchvision.transforms import ToTensor"
      ]
    },
    {
      "cell_type": "code",
      "execution_count": 3,
      "metadata": {
        "id": "neOVRfkUR3c_"
      },
      "outputs": [],
      "source": []
    },
    {
      "cell_type": "code",
      "source": [
        "# Downloading dataset\n",
        "\n",
        "training_data = datasets.FashionMNIST(\n",
        "    root=\"data\",\n",
        "    train=True,\n",
        "    download=True,\n",
        "    transform=ToTensor()\n",
        ")\n",
        "\n",
        "test_data = datasets.FashionMNIST(\n",
        "    root=\"data\",\n",
        "    train=False,\n",
        "    download=True,\n",
        "    transform=ToTensor(),\n",
        ")"
      ],
      "metadata": {
        "id": "9R3z6dvfSEWa",
        "outputId": "c0f3212a-cf42-4607-fb65-ebe5193ceb76",
        "colab": {
          "base_uri": "https://localhost:8080/"
        }
      },
      "execution_count": 4,
      "outputs": [
        {
          "output_type": "stream",
          "name": "stdout",
          "text": [
            "Downloading http://fashion-mnist.s3-website.eu-central-1.amazonaws.com/train-images-idx3-ubyte.gz\n",
            "Downloading http://fashion-mnist.s3-website.eu-central-1.amazonaws.com/train-images-idx3-ubyte.gz to data/FashionMNIST/raw/train-images-idx3-ubyte.gz\n"
          ]
        },
        {
          "output_type": "stream",
          "name": "stderr",
          "text": [
            "100%|██████████| 26421880/26421880 [00:01<00:00, 14832379.23it/s]\n"
          ]
        },
        {
          "output_type": "stream",
          "name": "stdout",
          "text": [
            "Extracting data/FashionMNIST/raw/train-images-idx3-ubyte.gz to data/FashionMNIST/raw\n",
            "\n",
            "Downloading http://fashion-mnist.s3-website.eu-central-1.amazonaws.com/train-labels-idx1-ubyte.gz\n",
            "Downloading http://fashion-mnist.s3-website.eu-central-1.amazonaws.com/train-labels-idx1-ubyte.gz to data/FashionMNIST/raw/train-labels-idx1-ubyte.gz\n"
          ]
        },
        {
          "output_type": "stream",
          "name": "stderr",
          "text": [
            "100%|██████████| 29515/29515 [00:00<00:00, 269107.02it/s]\n"
          ]
        },
        {
          "output_type": "stream",
          "name": "stdout",
          "text": [
            "Extracting data/FashionMNIST/raw/train-labels-idx1-ubyte.gz to data/FashionMNIST/raw\n",
            "\n",
            "Downloading http://fashion-mnist.s3-website.eu-central-1.amazonaws.com/t10k-images-idx3-ubyte.gz\n",
            "Downloading http://fashion-mnist.s3-website.eu-central-1.amazonaws.com/t10k-images-idx3-ubyte.gz to data/FashionMNIST/raw/t10k-images-idx3-ubyte.gz\n"
          ]
        },
        {
          "output_type": "stream",
          "name": "stderr",
          "text": [
            "100%|██████████| 4422102/4422102 [00:00<00:00, 5007620.41it/s]\n"
          ]
        },
        {
          "output_type": "stream",
          "name": "stdout",
          "text": [
            "Extracting data/FashionMNIST/raw/t10k-images-idx3-ubyte.gz to data/FashionMNIST/raw\n",
            "\n",
            "Downloading http://fashion-mnist.s3-website.eu-central-1.amazonaws.com/t10k-labels-idx1-ubyte.gz\n",
            "Downloading http://fashion-mnist.s3-website.eu-central-1.amazonaws.com/t10k-labels-idx1-ubyte.gz to data/FashionMNIST/raw/t10k-labels-idx1-ubyte.gz\n"
          ]
        },
        {
          "output_type": "stream",
          "name": "stderr",
          "text": [
            "100%|██████████| 5148/5148 [00:00<00:00, 14758904.30it/s]"
          ]
        },
        {
          "output_type": "stream",
          "name": "stdout",
          "text": [
            "Extracting data/FashionMNIST/raw/t10k-labels-idx1-ubyte.gz to data/FashionMNIST/raw\n",
            "\n"
          ]
        },
        {
          "output_type": "stream",
          "name": "stderr",
          "text": [
            "\n"
          ]
        }
      ]
    },
    {
      "cell_type": "code",
      "source": [],
      "metadata": {
        "id": "JJXSxEwtT1oV"
      },
      "execution_count": null,
      "outputs": []
    },
    {
      "cell_type": "code",
      "source": [
        "isinstance(training_data, Dataset)"
      ],
      "metadata": {
        "id": "qm069J3iTnUN",
        "outputId": "09922d82-a34a-493b-f8d0-b38f20d11d57",
        "colab": {
          "base_uri": "https://localhost:8080/"
        }
      },
      "execution_count": 11,
      "outputs": [
        {
          "output_type": "execute_result",
          "data": {
            "text/plain": [
              "True"
            ]
          },
          "metadata": {},
          "execution_count": 11
        }
      ]
    },
    {
      "cell_type": "code",
      "source": [],
      "metadata": {
        "id": "-RNbOsz2SShd"
      },
      "execution_count": null,
      "outputs": []
    },
    {
      "cell_type": "markdown",
      "source": [
        "* Dataloader\n",
        "  * Helps to iterate over dataset\n",
        "  * supports, automatic batching, sampling, shuffling and multiprocess dataloading"
      ],
      "metadata": {
        "id": "1HjXFxw8Spx2"
      }
    },
    {
      "cell_type": "code",
      "source": [
        "batch_size = 16\n",
        "\n",
        "# Create data loaders.\n",
        "train_dataloader = DataLoader(training_data, batch_size=batch_size)\n",
        "test_dataloader = DataLoader(test_data, batch_size=batch_size)"
      ],
      "metadata": {
        "id": "FR3bshyBSaBn"
      },
      "execution_count": 5,
      "outputs": []
    },
    {
      "cell_type": "code",
      "source": [
        "for X, y in test_dataloader:\n",
        "  print(f\"Shape of X [N, C, H, W]: {X.shape}\")\n",
        "  print(f\"Shape of y: {y.shape} {y.dtype}\")\n",
        "  break"
      ],
      "metadata": {
        "id": "YF1QZm-GSZ-0",
        "outputId": "a0d3d367-aeaf-41ef-d506-72a7713d4b5c",
        "colab": {
          "base_uri": "https://localhost:8080/"
        }
      },
      "execution_count": 7,
      "outputs": [
        {
          "output_type": "stream",
          "name": "stdout",
          "text": [
            "Shape of X [N, C, H, W]: torch.Size([16, 1, 28, 28])\n",
            "Shape of y: torch.Size([16]) torch.int64\n"
          ]
        }
      ]
    },
    {
      "cell_type": "code",
      "source": [],
      "metadata": {
        "id": "uE9Grsh6TeW6"
      },
      "execution_count": null,
      "outputs": []
    },
    {
      "cell_type": "markdown",
      "source": [
        "## Creating Models"
      ],
      "metadata": {
        "id": "MTtqMRCoUEiB"
      }
    },
    {
      "cell_type": "code",
      "source": [
        "class Model(nn.Module):\n",
        "  def __init__(self):\n",
        "    super().__init__()\n",
        "    self.flatten = nn.Flatten()\n",
        "    self.seq = nn.Sequential(\n",
        "        nn.Linear(28*28, 512),\n",
        "        nn.ReLU(),\n",
        "        nn.Linear(512, 512),\n",
        "        nn.ReLU(),\n",
        "        nn.Linear(512, 10)\n",
        "    )\n",
        "\n",
        "  def forward(self, x):\n",
        "    x = self.flatten(x)\n",
        "    logits = self.seq(x)\n",
        "    return logits"
      ],
      "metadata": {
        "id": "UfbprXIcUmHZ"
      },
      "execution_count": 14,
      "outputs": []
    },
    {
      "cell_type": "code",
      "source": [
        "model = Model().to(\"cpu\")"
      ],
      "metadata": {
        "id": "mLiqIVFQUmEa"
      },
      "execution_count": 15,
      "outputs": []
    },
    {
      "cell_type": "code",
      "source": [
        "print(model)"
      ],
      "metadata": {
        "id": "CL9Io3ArSZ8C",
        "outputId": "c6f0424e-6fd3-4860-c32d-acd219170b45",
        "colab": {
          "base_uri": "https://localhost:8080/"
        }
      },
      "execution_count": 16,
      "outputs": [
        {
          "output_type": "stream",
          "name": "stdout",
          "text": [
            "Model(\n",
            "  (flatten): Flatten(start_dim=1, end_dim=-1)\n",
            "  (seq): Sequential(\n",
            "    (0): Linear(in_features=784, out_features=512, bias=True)\n",
            "    (1): ReLU()\n",
            "    (2): Linear(in_features=512, out_features=512, bias=True)\n",
            "    (3): ReLU()\n",
            "    (4): Linear(in_features=512, out_features=10, bias=True)\n",
            "  )\n",
            ")\n"
          ]
        }
      ]
    },
    {
      "cell_type": "code",
      "source": [],
      "metadata": {
        "id": "uCFZdYlsVRWt"
      },
      "execution_count": null,
      "outputs": []
    },
    {
      "cell_type": "markdown",
      "source": [
        "## Optimizing the model params"
      ],
      "metadata": {
        "id": "6t4NwvZMVUc8"
      }
    },
    {
      "cell_type": "code",
      "source": [
        "loss_fn = nn.CrossEntropyLoss()\n",
        "optimizer = torch.optim.SGD(model.parameters(), lr=1e-3)"
      ],
      "metadata": {
        "id": "d37_RkFhVUT8"
      },
      "execution_count": 17,
      "outputs": []
    },
    {
      "cell_type": "code",
      "source": [],
      "metadata": {
        "id": "k1pEjRQKVsfm"
      },
      "execution_count": null,
      "outputs": []
    },
    {
      "cell_type": "markdown",
      "source": [
        "## Training Model"
      ],
      "metadata": {
        "id": "iZnIE6jJVqiP"
      }
    },
    {
      "cell_type": "code",
      "source": [
        "def train(dataloader, model, loss_fn, optimizer):\n",
        "    size = len(dataloader.dataset)\n",
        "    model.train()\n",
        "    for batch, (X, y) in enumerate(dataloader):\n",
        "        X, y = X.to(\"cpu\"), y.to(\"cpu\")\n",
        "\n",
        "        # Compute prediction error\n",
        "        pred = model(X)\n",
        "        loss = loss_fn(pred, y)\n",
        "\n",
        "        # Backpropagation\n",
        "        optimizer.zero_grad()\n",
        "        loss.backward()\n",
        "        optimizer.step()\n",
        "\n",
        "        if batch % 100 == 0:\n",
        "            loss, current = loss.item(), (batch + 1) * len(X)\n",
        "            print(f\"loss: {loss:>7f}  [{current:>5d}/{size:>5d}]\")"
      ],
      "metadata": {
        "id": "a4zjlgMQVzi-"
      },
      "execution_count": 24,
      "outputs": []
    },
    {
      "cell_type": "code",
      "source": [
        "def test(dataloader, model, loss_fn):\n",
        "    size = len(dataloader.dataset)\n",
        "    num_batches = len(dataloader)\n",
        "    model.eval()\n",
        "    test_loss, correct = 0, 0\n",
        "    with torch.no_grad():\n",
        "        for X, y in dataloader:\n",
        "            X, y = X.to(\"cpu\"), y.to(\"cpu\")\n",
        "            pred = model(X)\n",
        "            test_loss += loss_fn(pred, y).item()\n",
        "            correct += (pred.argmax(1) == y).type(torch.float).sum().item()\n",
        "    test_loss /= num_batches\n",
        "    correct /= size\n",
        "    print(f\"Test Error: \\n Accuracy: {(100*correct):>0.1f}%, Avg loss: {test_loss:>8f} \\n\")"
      ],
      "metadata": {
        "id": "nBdNTBHTVzfq"
      },
      "execution_count": 26,
      "outputs": []
    },
    {
      "cell_type": "code",
      "source": [],
      "metadata": {
        "id": "Rmscmoj4Ylvk"
      },
      "execution_count": null,
      "outputs": []
    },
    {
      "cell_type": "code",
      "source": [
        "epochs = 5\n",
        "for t in range(epochs):\n",
        "    print(f\"Epoch {t+1}\\n-------------------------------\")\n",
        "    train(train_dataloader, model, loss_fn, optimizer)\n",
        "    test(test_dataloader, model, loss_fn)\n",
        "print(\"Done!\")"
      ],
      "metadata": {
        "id": "b8gDqhrCVuxF",
        "outputId": "72b5f10f-7f8f-461a-c04b-d5a3733859b0",
        "colab": {
          "base_uri": "https://localhost:8080/"
        }
      },
      "execution_count": 27,
      "outputs": [
        {
          "output_type": "stream",
          "name": "stdout",
          "text": [
            "Epoch 1\n",
            "-------------------------------\n",
            "loss: 1.164294  [   16/60000]\n",
            "loss: 0.993496  [ 1616/60000]\n",
            "loss: 1.055751  [ 3216/60000]\n",
            "loss: 1.117747  [ 4816/60000]\n",
            "loss: 0.999255  [ 6416/60000]\n",
            "loss: 1.150059  [ 8016/60000]\n",
            "loss: 1.102987  [ 9616/60000]\n",
            "loss: 0.939750  [11216/60000]\n",
            "loss: 1.035524  [12816/60000]\n",
            "loss: 1.023446  [14416/60000]\n",
            "loss: 1.051987  [16016/60000]\n",
            "loss: 0.889090  [17616/60000]\n",
            "loss: 0.817446  [19216/60000]\n",
            "loss: 1.446965  [20816/60000]\n",
            "loss: 1.020388  [22416/60000]\n",
            "loss: 1.019483  [24016/60000]\n",
            "loss: 0.776900  [25616/60000]\n",
            "loss: 1.112740  [27216/60000]\n",
            "loss: 1.128645  [28816/60000]\n",
            "loss: 0.940348  [30416/60000]\n",
            "loss: 0.860256  [32016/60000]\n",
            "loss: 0.588639  [33616/60000]\n",
            "loss: 0.693590  [35216/60000]\n",
            "loss: 0.932878  [36816/60000]\n",
            "loss: 1.255751  [38416/60000]\n",
            "loss: 0.804618  [40016/60000]\n",
            "loss: 0.851723  [41616/60000]\n",
            "loss: 0.852897  [43216/60000]\n",
            "loss: 0.611158  [44816/60000]\n",
            "loss: 0.810461  [46416/60000]\n",
            "loss: 0.796830  [48016/60000]\n",
            "loss: 0.686658  [49616/60000]\n",
            "loss: 0.730018  [51216/60000]\n",
            "loss: 0.782044  [52816/60000]\n",
            "loss: 0.778217  [54416/60000]\n",
            "loss: 1.105964  [56016/60000]\n",
            "loss: 0.876512  [57616/60000]\n",
            "loss: 0.593869  [59216/60000]\n",
            "Test Error: \n",
            " Accuracy: 69.0%, Avg loss: 0.832269 \n",
            "\n",
            "Epoch 2\n",
            "-------------------------------\n",
            "loss: 0.837295  [   16/60000]\n",
            "loss: 0.683887  [ 1616/60000]\n",
            "loss: 0.740069  [ 3216/60000]\n",
            "loss: 0.786194  [ 4816/60000]\n",
            "loss: 0.697849  [ 6416/60000]\n",
            "loss: 0.840725  [ 8016/60000]\n",
            "loss: 0.847377  [ 9616/60000]\n",
            "loss: 0.621926  [11216/60000]\n",
            "loss: 0.817700  [12816/60000]\n",
            "loss: 0.681203  [14416/60000]\n",
            "loss: 0.847500  [16016/60000]\n",
            "loss: 0.623969  [17616/60000]\n",
            "loss: 0.605667  [19216/60000]\n",
            "loss: 1.355507  [20816/60000]\n",
            "loss: 0.786575  [22416/60000]\n",
            "loss: 0.840838  [24016/60000]\n",
            "loss: 0.566620  [25616/60000]\n",
            "loss: 0.985152  [27216/60000]\n",
            "loss: 1.075575  [28816/60000]\n",
            "loss: 0.716142  [30416/60000]\n",
            "loss: 0.725867  [32016/60000]\n",
            "loss: 0.410659  [33616/60000]\n",
            "loss: 0.509537  [35216/60000]\n",
            "loss: 0.725085  [36816/60000]\n",
            "loss: 1.141358  [38416/60000]\n",
            "loss: 0.707700  [40016/60000]\n",
            "loss: 0.747606  [41616/60000]\n",
            "loss: 0.675787  [43216/60000]\n",
            "loss: 0.504080  [44816/60000]\n",
            "loss: 0.672285  [46416/60000]\n",
            "loss: 0.627765  [48016/60000]\n",
            "loss: 0.562755  [49616/60000]\n",
            "loss: 0.559562  [51216/60000]\n",
            "loss: 0.642030  [52816/60000]\n",
            "loss: 0.694772  [54416/60000]\n",
            "loss: 1.009882  [56016/60000]\n",
            "loss: 0.809449  [57616/60000]\n",
            "loss: 0.519594  [59216/60000]\n",
            "Test Error: \n",
            " Accuracy: 73.5%, Avg loss: 0.728091 \n",
            "\n",
            "Epoch 3\n",
            "-------------------------------\n",
            "loss: 0.718694  [   16/60000]\n",
            "loss: 0.606321  [ 1616/60000]\n",
            "loss: 0.655106  [ 3216/60000]\n",
            "loss: 0.647937  [ 4816/60000]\n",
            "loss: 0.576703  [ 6416/60000]\n",
            "loss: 0.701857  [ 8016/60000]\n",
            "loss: 0.743042  [ 9616/60000]\n",
            "loss: 0.493387  [11216/60000]\n",
            "loss: 0.708304  [12816/60000]\n",
            "loss: 0.505079  [14416/60000]\n",
            "loss: 0.799111  [16016/60000]\n",
            "loss: 0.504362  [17616/60000]\n",
            "loss: 0.508070  [19216/60000]\n",
            "loss: 1.270295  [20816/60000]\n",
            "loss: 0.666274  [22416/60000]\n",
            "loss: 0.760602  [24016/60000]\n",
            "loss: 0.513357  [25616/60000]\n",
            "loss: 0.930218  [27216/60000]\n",
            "loss: 1.008878  [28816/60000]\n",
            "loss: 0.608748  [30416/60000]\n",
            "loss: 0.694350  [32016/60000]\n",
            "loss: 0.340271  [33616/60000]\n",
            "loss: 0.432160  [35216/60000]\n",
            "loss: 0.613086  [36816/60000]\n",
            "loss: 1.014400  [38416/60000]\n",
            "loss: 0.691023  [40016/60000]\n",
            "loss: 0.699801  [41616/60000]\n",
            "loss: 0.591585  [43216/60000]\n",
            "loss: 0.467291  [44816/60000]\n",
            "loss: 0.609564  [46416/60000]\n",
            "loss: 0.532239  [48016/60000]\n",
            "loss: 0.509050  [49616/60000]\n",
            "loss: 0.450764  [51216/60000]\n",
            "loss: 0.551893  [52816/60000]\n",
            "loss: 0.657721  [54416/60000]\n",
            "loss: 0.902961  [56016/60000]\n",
            "loss: 0.766295  [57616/60000]\n",
            "loss: 0.468945  [59216/60000]\n",
            "Test Error: \n",
            " Accuracy: 76.7%, Avg loss: 0.664274 \n",
            "\n",
            "Epoch 4\n",
            "-------------------------------\n",
            "loss: 0.636652  [   16/60000]\n",
            "loss: 0.564676  [ 1616/60000]\n",
            "loss: 0.616570  [ 3216/60000]\n",
            "loss: 0.565057  [ 4816/60000]\n",
            "loss: 0.493565  [ 6416/60000]\n",
            "loss: 0.618406  [ 8016/60000]\n",
            "loss: 0.681186  [ 9616/60000]\n",
            "loss: 0.421414  [11216/60000]\n",
            "loss: 0.620532  [12816/60000]\n",
            "loss: 0.398276  [14416/60000]\n",
            "loss: 0.781126  [16016/60000]\n",
            "loss: 0.422931  [17616/60000]\n",
            "loss: 0.447101  [19216/60000]\n",
            "loss: 1.212501  [20816/60000]\n",
            "loss: 0.577600  [22416/60000]\n",
            "loss: 0.707078  [24016/60000]\n",
            "loss: 0.493343  [25616/60000]\n",
            "loss: 0.870093  [27216/60000]\n",
            "loss: 0.932981  [28816/60000]\n",
            "loss: 0.539466  [30416/60000]\n",
            "loss: 0.674831  [32016/60000]\n",
            "loss: 0.296020  [33616/60000]\n",
            "loss: 0.377885  [35216/60000]\n",
            "loss: 0.532215  [36816/60000]\n",
            "loss: 0.898324  [38416/60000]\n",
            "loss: 0.691550  [40016/60000]\n",
            "loss: 0.670748  [41616/60000]\n",
            "loss: 0.536280  [43216/60000]\n",
            "loss: 0.453658  [44816/60000]\n",
            "loss: 0.565159  [46416/60000]\n",
            "loss: 0.470766  [48016/60000]\n",
            "loss: 0.478197  [49616/60000]\n",
            "loss: 0.375913  [51216/60000]\n",
            "loss: 0.481561  [52816/60000]\n",
            "loss: 0.634833  [54416/60000]\n",
            "loss: 0.800683  [56016/60000]\n",
            "loss: 0.728360  [57616/60000]\n",
            "loss: 0.428223  [59216/60000]\n",
            "Test Error: \n",
            " Accuracy: 78.6%, Avg loss: 0.618374 \n",
            "\n",
            "Epoch 5\n",
            "-------------------------------\n",
            "loss: 0.583305  [   16/60000]\n",
            "loss: 0.527504  [ 1616/60000]\n",
            "loss: 0.596125  [ 3216/60000]\n",
            "loss: 0.511789  [ 4816/60000]\n",
            "loss: 0.428712  [ 6416/60000]\n",
            "loss: 0.565373  [ 8016/60000]\n",
            "loss: 0.638228  [ 9616/60000]\n",
            "loss: 0.374545  [11216/60000]\n",
            "loss: 0.551036  [12816/60000]\n",
            "loss: 0.328512  [14416/60000]\n",
            "loss: 0.771565  [16016/60000]\n",
            "loss: 0.361472  [17616/60000]\n",
            "loss: 0.408606  [19216/60000]\n",
            "loss: 1.173730  [20816/60000]\n",
            "loss: 0.511502  [22416/60000]\n",
            "loss: 0.667498  [24016/60000]\n",
            "loss: 0.479222  [25616/60000]\n",
            "loss: 0.813614  [27216/60000]\n",
            "loss: 0.862488  [28816/60000]\n",
            "loss: 0.488696  [30416/60000]\n",
            "loss: 0.652587  [32016/60000]\n",
            "loss: 0.264888  [33616/60000]\n",
            "loss: 0.334637  [35216/60000]\n",
            "loss: 0.469643  [36816/60000]\n",
            "loss: 0.804681  [38416/60000]\n",
            "loss: 0.697695  [40016/60000]\n",
            "loss: 0.655800  [41616/60000]\n",
            "loss: 0.493989  [43216/60000]\n",
            "loss: 0.455345  [44816/60000]\n",
            "loss: 0.531763  [46416/60000]\n",
            "loss: 0.433065  [48016/60000]\n",
            "loss: 0.459275  [49616/60000]\n",
            "loss: 0.326916  [51216/60000]\n",
            "loss: 0.428805  [52816/60000]\n",
            "loss: 0.619319  [54416/60000]\n",
            "loss: 0.714059  [56016/60000]\n",
            "loss: 0.694006  [57616/60000]\n",
            "loss: 0.398892  [59216/60000]\n",
            "Test Error: \n",
            " Accuracy: 79.9%, Avg loss: 0.585020 \n",
            "\n",
            "Done!\n"
          ]
        }
      ]
    },
    {
      "cell_type": "code",
      "source": [],
      "metadata": {
        "id": "SY28djYsYktt"
      },
      "execution_count": null,
      "outputs": []
    },
    {
      "cell_type": "markdown",
      "source": [
        "## Saving Models"
      ],
      "metadata": {
        "id": "kTb-wW3mYtds"
      }
    },
    {
      "cell_type": "markdown",
      "source": [
        "Store internal states\n",
        "  * optimizer state"
      ],
      "metadata": {
        "id": "SOArxVJJZFuH"
      }
    },
    {
      "cell_type": "code",
      "source": [
        "torch.save(model.state_dict(), \"model.pth\")\n",
        "print(\"SAved PyTorch Model State to model.pth\")"
      ],
      "metadata": {
        "id": "WtxQJUDeYvAc",
        "outputId": "4178ca8a-4580-462d-8142-7d6ed8fcef10",
        "colab": {
          "base_uri": "https://localhost:8080/"
        }
      },
      "execution_count": 28,
      "outputs": [
        {
          "output_type": "stream",
          "name": "stdout",
          "text": [
            "SAved PyTorch Model State to model.pth\n"
          ]
        }
      ]
    },
    {
      "cell_type": "code",
      "source": [],
      "metadata": {
        "id": "ax39unHxY1kO"
      },
      "execution_count": null,
      "outputs": []
    },
    {
      "cell_type": "markdown",
      "source": [
        "## Loading Models"
      ],
      "metadata": {
        "id": "GMjVb0cqY2iW"
      }
    },
    {
      "cell_type": "code",
      "source": [
        "model = Model().to(\"cpu\")\n",
        "\n",
        "model.load_state_dict(torch.load(\"model.pth\"))"
      ],
      "metadata": {
        "id": "Wabfmol5Y3e8",
        "outputId": "45aeefd9-e3e9-4771-e783-8e47649d31b1",
        "colab": {
          "base_uri": "https://localhost:8080/"
        }
      },
      "execution_count": 29,
      "outputs": [
        {
          "output_type": "execute_result",
          "data": {
            "text/plain": [
              "<All keys matched successfully>"
            ]
          },
          "metadata": {},
          "execution_count": 29
        }
      ]
    },
    {
      "cell_type": "code",
      "source": [],
      "metadata": {
        "id": "0WwgXtJmZPOW"
      },
      "execution_count": null,
      "outputs": []
    },
    {
      "cell_type": "markdown",
      "source": [
        "## Inference"
      ],
      "metadata": {
        "id": "iHulFalhZWjI"
      }
    },
    {
      "cell_type": "code",
      "source": [
        "import matplotlib.pyplot as plt"
      ],
      "metadata": {
        "id": "EbjQBWa_ZX-E"
      },
      "execution_count": 30,
      "outputs": []
    },
    {
      "cell_type": "code",
      "source": [
        "classes = [\n",
        "    \"T-shirt/top\",\n",
        "    \"Trouser\",\n",
        "    \"Pullover\",\n",
        "    \"Dress\",\n",
        "    \"Coat\",\n",
        "    \"Sandal\",\n",
        "    \"Shirt\",\n",
        "    \"Sneaker\",\n",
        "    \"Bag\",\n",
        "    \"Ankle boot\",\n",
        "]"
      ],
      "metadata": {
        "id": "1PR2JCM2ZiEW"
      },
      "execution_count": 31,
      "outputs": []
    },
    {
      "cell_type": "code",
      "source": [
        "x, y = test_data[0][0], test_data[0][1]"
      ],
      "metadata": {
        "id": "_CbvQ2H9ZcJ1"
      },
      "execution_count": 32,
      "outputs": []
    },
    {
      "cell_type": "code",
      "source": [
        "model.eval()"
      ],
      "metadata": {
        "id": "au08SFtnZih9",
        "outputId": "eaf5ce6b-bdc6-4c63-83dc-410ac3267b19",
        "colab": {
          "base_uri": "https://localhost:8080/"
        }
      },
      "execution_count": 33,
      "outputs": [
        {
          "output_type": "execute_result",
          "data": {
            "text/plain": [
              "Model(\n",
              "  (flatten): Flatten(start_dim=1, end_dim=-1)\n",
              "  (seq): Sequential(\n",
              "    (0): Linear(in_features=784, out_features=512, bias=True)\n",
              "    (1): ReLU()\n",
              "    (2): Linear(in_features=512, out_features=512, bias=True)\n",
              "    (3): ReLU()\n",
              "    (4): Linear(in_features=512, out_features=10, bias=True)\n",
              "  )\n",
              ")"
            ]
          },
          "metadata": {},
          "execution_count": 33
        }
      ]
    },
    {
      "cell_type": "code",
      "source": [
        "with torch.no_grad():\n",
        "  x = x.to(\"cpu\")\n",
        "  pred = model(x)\n",
        "\n",
        "\n",
        "  # Get idx of top label\n",
        "  top_pred_decoded = classes[pred[0].argmax(0)]\n",
        "  actual = classes[y]\n",
        "\n",
        "print(f\"Predicted: {top_pred_decoded},\\nActual: {actual}\")"
      ],
      "metadata": {
        "id": "Qtt1-1xTZkml",
        "outputId": "746d2e16-c6a3-40cb-b9ba-1f6c05b122bb",
        "colab": {
          "base_uri": "https://localhost:8080/"
        }
      },
      "execution_count": 44,
      "outputs": [
        {
          "output_type": "stream",
          "name": "stdout",
          "text": [
            "Predicted: Ankle boot,\n",
            "Actual: Ankle boot\n"
          ]
        }
      ]
    },
    {
      "cell_type": "code",
      "source": [],
      "metadata": {
        "id": "aPLNIL8tZ0Md"
      },
      "execution_count": null,
      "outputs": []
    }
  ],
  "metadata": {
    "kernelspec": {
      "display_name": "Python 3",
      "language": "python",
      "name": "python3"
    },
    "language_info": {
      "codemirror_mode": {
        "name": "ipython",
        "version": 3
      },
      "file_extension": ".py",
      "mimetype": "text/x-python",
      "name": "python",
      "nbconvert_exporter": "python",
      "pygments_lexer": "ipython3",
      "version": "3.10.4"
    },
    "orig_nbformat": 4,
    "colab": {
      "provenance": [],
      "include_colab_link": true
    }
  },
  "nbformat": 4,
  "nbformat_minor": 0
}