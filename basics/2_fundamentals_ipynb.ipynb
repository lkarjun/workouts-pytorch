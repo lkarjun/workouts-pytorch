{
  "nbformat": 4,
  "nbformat_minor": 0,
  "metadata": {
    "colab": {
      "provenance": [],
      "authorship_tag": "ABX9TyOyrQZnr7m1uOU9C4q2SJ8z",
      "include_colab_link": true
    },
    "kernelspec": {
      "name": "python3",
      "display_name": "Python 3"
    },
    "language_info": {
      "name": "python"
    }
  },
  "cells": [
    {
      "cell_type": "markdown",
      "metadata": {
        "id": "view-in-github",
        "colab_type": "text"
      },
      "source": [
        "<a href=\"https://colab.research.google.com/github/lkarjun/workouts-pytorch/blob/main/basics/2_fundamentals_ipynb.ipynb\" target=\"_parent\"><img src=\"https://colab.research.google.com/assets/colab-badge.svg\" alt=\"Open In Colab\"/></a>"
      ]
    },
    {
      "cell_type": "markdown",
      "source": [
        "## Fundamentals\n",
        "### Tutorial 2\n",
        "\n",
        "https://pytorch.org/tutorials/beginner/basics/tensorqs_tutorial.html\n",
        "\n",
        "https://www.learnpytorch.io/00_pytorch_fundamentals/#exercises\n"
      ],
      "metadata": {
        "id": "tXREO6p_9XfF"
      }
    },
    {
      "cell_type": "code",
      "execution_count": null,
      "metadata": {
        "id": "mSuJ4qhB9HBr"
      },
      "outputs": [],
      "source": [
        "# Tensors"
      ]
    },
    {
      "cell_type": "code",
      "source": [
        "import torch\n",
        "import numpy as np"
      ],
      "metadata": {
        "id": "cvhvuyxX9l_v"
      },
      "execution_count": 1,
      "outputs": []
    },
    {
      "cell_type": "markdown",
      "source": [
        "### Basics"
      ],
      "metadata": {
        "id": "Hxq7QT8U_NU5"
      }
    },
    {
      "cell_type": "code",
      "source": [
        "# Initializing a Tensor\n",
        "\n",
        "data = [[1, 2], [3, 4]]\n",
        "x_data = torch.tensor(data)\n",
        "\n",
        "x_data.shape"
      ],
      "metadata": {
        "colab": {
          "base_uri": "https://localhost:8080/"
        },
        "id": "29kjmBMT9pEg",
        "outputId": "d82c2a7b-abae-450c-ebcf-5cc8497af124"
      },
      "execution_count": 2,
      "outputs": [
        {
          "output_type": "execute_result",
          "data": {
            "text/plain": [
              "torch.Size([2, 2])"
            ]
          },
          "metadata": {},
          "execution_count": 2
        }
      ]
    },
    {
      "cell_type": "code",
      "source": [
        "# From numpy array\n",
        "\n",
        "np_array = np.array(data)\n",
        "x_np = torch.from_numpy(np_array)"
      ],
      "metadata": {
        "id": "GXlYxkzQ-JzK"
      },
      "execution_count": 3,
      "outputs": []
    },
    {
      "cell_type": "code",
      "source": [],
      "metadata": {
        "id": "vtx8sOnH_Qi1"
      },
      "execution_count": 3,
      "outputs": []
    },
    {
      "cell_type": "code",
      "source": [
        "# Scalar\n",
        "## Its a single number and zero dim tensor\n",
        "scalar = torch.tensor(4)\n",
        "scalar, scalar.ndim"
      ],
      "metadata": {
        "colab": {
          "base_uri": "https://localhost:8080/"
        },
        "id": "jmMgRQat-Rak",
        "outputId": "847a21c3-05ec-4f03-fe5d-dd26da16de09"
      },
      "execution_count": 4,
      "outputs": [
        {
          "output_type": "execute_result",
          "data": {
            "text/plain": [
              "(tensor(4), 0)"
            ]
          },
          "metadata": {},
          "execution_count": 4
        }
      ]
    },
    {
      "cell_type": "code",
      "source": [
        "# Vector\n",
        "## Single dim tensor, contain mulitple value\n",
        "\n",
        "vector = torch.tensor([7, 7])\n",
        "vector, vector.ndim, vector.shape"
      ],
      "metadata": {
        "colab": {
          "base_uri": "https://localhost:8080/"
        },
        "id": "F_YoUfS7-1H4",
        "outputId": "b855a7a5-604b-453c-dcad-8f94a16dfda6"
      },
      "execution_count": 5,
      "outputs": [
        {
          "output_type": "execute_result",
          "data": {
            "text/plain": [
              "(tensor([7, 7]), 1, torch.Size([2]))"
            ]
          },
          "metadata": {},
          "execution_count": 5
        }
      ]
    },
    {
      "cell_type": "code",
      "source": [
        "# Matrix\n",
        "## Contain extra dim and more values\n",
        "\n",
        "MATRIX = torch.tensor([[7, 8], [9, 10]])\n",
        "\n",
        "MATRIX, MATRIX.ndim, MATRIX.shape"
      ],
      "metadata": {
        "colab": {
          "base_uri": "https://localhost:8080/"
        },
        "id": "qpYnpRjvEJmR",
        "outputId": "f1e510f6-7e0d-4b70-ad5f-7a381eaa412b"
      },
      "execution_count": 6,
      "outputs": [
        {
          "output_type": "execute_result",
          "data": {
            "text/plain": [
              "(tensor([[ 7,  8],\n",
              "         [ 9, 10]]),\n",
              " 2,\n",
              " torch.Size([2, 2]))"
            ]
          },
          "metadata": {},
          "execution_count": 6
        }
      ]
    },
    {
      "cell_type": "code",
      "source": [
        "# Tensor\n",
        "TENSOR = torch.tensor([[[1, 2, 3],\n",
        "                        [3, 6, 9],\n",
        "                        [2, 4, 5]]])\n",
        "TENSOR"
      ],
      "metadata": {
        "colab": {
          "base_uri": "https://localhost:8080/"
        },
        "id": "f4smx0bwG9Im",
        "outputId": "aee14003-1e53-4228-990c-e614bb70d9a0"
      },
      "execution_count": 7,
      "outputs": [
        {
          "output_type": "execute_result",
          "data": {
            "text/plain": [
              "tensor([[[1, 2, 3],\n",
              "         [3, 6, 9],\n",
              "         [2, 4, 5]]])"
            ]
          },
          "metadata": {},
          "execution_count": 7
        }
      ]
    },
    {
      "cell_type": "code",
      "source": [
        "# The dim to outer to inner\n",
        "## That means 1 dim of 3 by 3\n",
        "TENSOR.ndim, TENSOR.shape"
      ],
      "metadata": {
        "colab": {
          "base_uri": "https://localhost:8080/"
        },
        "id": "zd_zTGSOG9F2",
        "outputId": "375b1cc5-b373-4bf9-aaaf-b87d179149bd"
      },
      "execution_count": 8,
      "outputs": [
        {
          "output_type": "execute_result",
          "data": {
            "text/plain": [
              "(3, torch.Size([1, 3, 3]))"
            ]
          },
          "metadata": {},
          "execution_count": 8
        }
      ]
    },
    {
      "cell_type": "code",
      "source": [],
      "metadata": {
        "id": "-flRjJZcGcms"
      },
      "execution_count": 8,
      "outputs": []
    },
    {
      "cell_type": "code",
      "source": [
        "# Random Tensors\n",
        "\n",
        "random_tensor = torch.randn(size=(3, 4))\n",
        "random_tensor,random_tensor.dtype"
      ],
      "metadata": {
        "id": "34LSOB3MQc_0",
        "outputId": "5364958a-809b-419d-fea7-b147da16095c",
        "colab": {
          "base_uri": "https://localhost:8080/"
        }
      },
      "execution_count": 11,
      "outputs": [
        {
          "output_type": "execute_result",
          "data": {
            "text/plain": [
              "(tensor([[ 0.9028,  0.7284, -0.7103,  0.1600],\n",
              "         [-0.0314,  1.3830,  1.1037, -0.2028],\n",
              "         [-0.4803,  0.7899, -1.2212,  0.0392]]),\n",
              " torch.float32)"
            ]
          },
          "metadata": {},
          "execution_count": 11
        }
      ]
    },
    {
      "cell_type": "code",
      "source": [
        "random_image = torch.randn(size=(224, 224, 3))"
      ],
      "metadata": {
        "id": "EF52oq9EhEJg"
      },
      "execution_count": 12,
      "outputs": []
    },
    {
      "cell_type": "code",
      "source": [
        "# Zeros and ones\n",
        "\n",
        "zeros = torch.zeros(size=(2, 3))\n",
        "ones = torch.ones(size=(3, 1))"
      ],
      "metadata": {
        "id": "-nM16vOchIpF"
      },
      "execution_count": 13,
      "outputs": []
    },
    {
      "cell_type": "code",
      "source": [
        "# Creating a Range of Tensor\n",
        "\n",
        "zero_to_ten = torch.arange(0, 10, 2)\n",
        "zero_to_ten"
      ],
      "metadata": {
        "id": "PH2NS1gBhIml",
        "outputId": "b798f127-a823-4384-9abb-c87c176b6852",
        "colab": {
          "base_uri": "https://localhost:8080/"
        }
      },
      "execution_count": 16,
      "outputs": [
        {
          "output_type": "execute_result",
          "data": {
            "text/plain": [
              "tensor([0, 2, 4, 6, 8])"
            ]
          },
          "metadata": {},
          "execution_count": 16
        }
      ]
    },
    {
      "cell_type": "code",
      "source": [
        "torch.zeros_like(zero_to_ten)"
      ],
      "metadata": {
        "id": "rCzqwFAkhIi5",
        "outputId": "174e88c2-c19e-4313-e1b1-f16cf788072e",
        "colab": {
          "base_uri": "https://localhost:8080/"
        }
      },
      "execution_count": 18,
      "outputs": [
        {
          "output_type": "execute_result",
          "data": {
            "text/plain": [
              "tensor([0, 0, 0, 0, 0])"
            ]
          },
          "metadata": {},
          "execution_count": 18
        }
      ]
    },
    {
      "cell_type": "code",
      "source": [],
      "metadata": {
        "id": "i2kSkclZhIgg"
      },
      "execution_count": null,
      "outputs": []
    },
    {
      "cell_type": "code",
      "source": [
        "# Tensor datatype\n",
        "\n",
        "## precision in computing \n",
        "### Is the amount of detail used to describe a number\n",
        "### The higher the precision, the more the details\n",
        "\n",
        "### all tensor should be in same size, type, and in device\n",
        "\n",
        "float_32_tensor = torch.randn(size=(2, 2), dtype=None)\n",
        "\n",
        "float_32_tensor, float_32_tensor.dtype"
      ],
      "metadata": {
        "id": "6NvPMZ4_iSW7",
        "outputId": "1cc2847b-b9e0-4c57-c103-af9561a6b315",
        "colab": {
          "base_uri": "https://localhost:8080/"
        }
      },
      "execution_count": 21,
      "outputs": [
        {
          "output_type": "execute_result",
          "data": {
            "text/plain": [
              "(tensor([[ 0.2750, -0.3766],\n",
              "         [-2.1178,  0.9551]]),\n",
              " torch.float32)"
            ]
          },
          "metadata": {},
          "execution_count": 21
        }
      ]
    },
    {
      "cell_type": "code",
      "source": [],
      "metadata": {
        "id": "fygU4S83jJqF"
      },
      "execution_count": 20,
      "outputs": []
    },
    {
      "cell_type": "code",
      "source": [],
      "metadata": {
        "id": "Ue9F3f5JjJnX"
      },
      "execution_count": null,
      "outputs": []
    },
    {
      "cell_type": "code",
      "source": [],
      "metadata": {
        "id": "sM1cxuYpjJlM"
      },
      "execution_count": null,
      "outputs": []
    }
  ]
}